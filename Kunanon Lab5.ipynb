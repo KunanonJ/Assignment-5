{
 "cells": [
  {
   "cell_type": "markdown",
   "metadata": {
    "id": "VOK8X-ki7lln"
   },
   "source": [
    "# Assignment 4 \n",
    "# Trading Strategy using Time-Series Forecast\n",
    "\n",
    "---\n",
    "In this assignment, we will develop a trading strategy using the time-series forecast techniques. \n",
    "\n"
   ]
  },
  {
   "cell_type": "markdown",
   "metadata": {
    "id": "_FtKqyWF8EW3"
   },
   "source": [
    "I will help you develop idea by showing with simple ARIMA model method. "
   ]
  },
  {
   "cell_type": "markdown",
   "metadata": {
    "id": "dkEC26y69KWw"
   },
   "source": [
    "1. First, we will download necessary library"
   ]
  },
  {
   "cell_type": "code",
   "execution_count": 1,
   "metadata": {
    "id": "oDGrdNJ_7NsK"
   },
   "outputs": [],
   "source": [
    "from pandas_datareader import data\n",
    "import matplotlib.pyplot as plt\n",
    "import pandas as pd\n",
    "import numpy as np\n",
    "import matplotlib.pyplot as plt"
   ]
  },
  {
   "cell_type": "code",
   "execution_count": 5,
   "metadata": {
    "id": "ipaRJPwa-1v1"
   },
   "outputs": [],
   "source": [
    "import itertools    \n",
    "import warnings\n",
    "import statsmodels.tsa.arima_model as arima_model\n",
    "warnings.filterwarnings(\"ignore\")\n",
    "def arimaParameterSearch(data, p_max, d_max, q_max):\n",
    "  \"\"\"\n",
    "  ARIMA Parameter search function\n",
    "  The goal is to search for the phi and theta in the \n",
    "  ARIMA model where \n",
    "  data: price time series data\n",
    "  p_max: the maximum number of autoregressive terms (number of phis)\n",
    "  d_max: the maximum number of differences \n",
    "  q_max:the maximum number of moving-average terms (number of phis)\n",
    "  \"\"\"\n",
    "\n",
    "  p = range(p_max + 1)\n",
    "  d = range(d_max+ 1)\n",
    "  q = range(q_max+ 1)\n",
    "  parameter_spaces = list(itertools.product(p, d, q))\n",
    "  best_aic, pdq= None, None\n",
    "  for (p, d, q) in parameter_spaces:   \n",
    "    try :\n",
    "      model = arima_model.ARIMA(data, order=(p,d,q))\n",
    "      result = model.fit(method=\"mle\")\n",
    "      if (best_aic is None) or (result.aic < best_aic):\n",
    "        \n",
    "        best_aic = result.aic\n",
    "        pdq = (p,d,q)\n",
    "        print(pdq, best_aic)\n",
    "    except:\n",
    "      continue\n",
    "  return best_aic, pdq"
   ]
  },
  {
   "cell_type": "code",
   "execution_count": 8,
   "metadata": {
    "id": "jvCPbW3THxV5"
   },
   "outputs": [],
   "source": [
    "from scipy.stats import norm \n",
    "def difference(data, interval=1):\n",
    "  \"\"\"\n",
    "  create time different y[t] - y[t - interval]\n",
    "  data: time-series data\n",
    "  interval: time lag \n",
    "  Return \n",
    "      y[t] - y[t - interval]\n",
    "  \"\"\"\n",
    "  return data - data.shift(interval)\n",
    "def integrate(diff_y, hist_data, interval=1):\n",
    "  \"\"\"\n",
    "  inverse version of time difference function\n",
    "  diff_y: time-series of y[t] - y[t - interval]\n",
    "  hist_data: time-series of y[t - interval]\n",
    "  Return\n",
    "    y[t] + y[t - interval]\n",
    "  \"\"\"\n",
    "  return diff_y + hist_data.shift(interval)\n",
    "\n",
    "def buildARIMAForecast(phis, theta, d, mu, sigma=0):\n",
    "  \"\"\"\n",
    "  Create the ARIMA forecast function\n",
    "  y[t] = mu + phi_1*y[t-1]+...+phi_p*y[t-p] + w[t] \n",
    "         + theta_1*w[t-1] + ...+theta_q * w[t-q]\n",
    "  Inputs\n",
    "    phis: array of autregressive parameters [phi_1, phi_2, .... phi_p]\n",
    "    theta: array of moving average parameters [theta_1, ..., theta_q]\n",
    "    d: difference order Ex: d=0, we work with y[t] = p[t], d=1, \n",
    "        we work with y[t] =p[t] - p[t-1]\n",
    "    mu: mu parameter is the model\n",
    "    sigma: standard deviation of forecasting error. \n",
    "  Return:\n",
    "    ARIMA forecast function\n",
    "  \"\"\"\n",
    "\n",
    "  p = len(phis)\n",
    "  q = len(theta)\n",
    "  def arimaForecast(data, alpha=0.95, res0=0):\n",
    "    \"\"\"\n",
    "    arima 1-step forecast function\n",
    "    y[t] = mu + phi_1*y[t-1]+...+phi_p*y[t-p] + w[t] \n",
    "         + theta_1*w[t-1] + ...+theta_q * w[t-q]\n",
    "    Input:\n",
    "      data: time-series data that we want to perform forecast\n",
    "      alpha: where 1- alpha is confidence level \n",
    "      res0: initial residue. \n",
    "    Return:\n",
    "      x_pred: 1-step predicted prices\n",
    "      residue: forecast residue error.\n",
    "      [conf_int_low, conf_int_high]: list containting lower and upper confidence intervals\n",
    "    \"\"\"\n",
    "    x = data.copy()\n",
    "    if d > 0: # d > 0, we work with differences\n",
    "      for k in range(d): # difference orders\n",
    "        x = difference(x, interval=1)\n",
    "    x = x.dropna() # drop unusable data. \n",
    "    num_x = x.shape[0]\n",
    "    pq_max = max(p,q) # maximum between autoregressive and moving average\n",
    "    residue = np.zeros((num_x,))\n",
    "    residue[:pq_max] = res0 # initialized residues\n",
    "    x_out = [] # for storing forecast values\n",
    "    dates = [] # for storing dates where we have forecast values \n",
    "    for k in range(pq_max, num_x): # for each day\n",
    "      x_pred = mu # y_hat[t] = mu\n",
    "      if p > 0:\n",
    "        x_hist = (x.iloc[k-p:k] - mu) #y[t-1],.., y[t-p]\n",
    "        x_pred += (phis * x_hist).sum()        \n",
    "        # y_hat[t] = y_hat[t] + phi_1*y[t-1]+...+phi_p*y[t-p] + w[t] \n",
    "      if q > 0:\n",
    "        w_hist = residue[k-q:k] #w[t], ..., w[t-q]\n",
    "        x_pred += (theta * w_hist).sum()\n",
    "        #y_hat[t] += y_hat[t] + theta_1*w[t-1] + ...+theta_q * w[t-q]     \n",
    "      x_out.append(x_pred)\n",
    "      dates.append(x.index[k])\n",
    "\n",
    "      ## update residue \n",
    "      residue[k] = x.iloc[k] - x_pred #w[t] = y[t] -  y_hat[t]\n",
    "    x_pred = pd.Series(x_out, index=dates) # Covert to time series\n",
    "    residue = pd.Series(residue[pq_max:], index=dates) # Covert to time series\n",
    "    if d > 0:\n",
    "      for k in range(d):\n",
    "        x_pred = integrate(x_pred, data).dropna()\n",
    "    # make confidence intervale\n",
    "    zalpha2 = norm.ppf(1 - alpha/2) # compute z_{alpha/2}\n",
    "    conf_int_high = x_pred + zalpha2 * sigma # upper 95% confidence\n",
    "    conf_int_low = x_pred - zalpha2 * sigma # lower 95% confidence \n",
    "    return x_pred, residue , [conf_int_low, conf_int_high]\n",
    "  return arimaForecast \n"
   ]
  },
  {
   "cell_type": "code",
   "execution_count": 9,
   "metadata": {
    "colab": {
     "base_uri": "https://localhost:8080/"
    },
    "id": "VsL92efVLLcv",
    "outputId": "11cb8747-5479-4d58-d2c5-56d119a24fab"
   },
   "outputs": [
    {
     "name": "stdout",
     "output_type": "stream",
     "text": [
      "d: 0\n",
      "thata: []\n",
      "phi: [0.99719517]\n",
      "Mu: 7.157378458639854 \n",
      "1 Step forecast has STD: [0.00672737]\n"
     ]
    }
   ],
   "source": [
    "try:\n",
    "  theta = result.maparams\n",
    "except:\n",
    "  theta = np.array([])\n",
    "try:\n",
    "  phi = result.arparams\n",
    "except:\n",
    "  phi = np.array([])\n",
    "mu = result.params['const']\n",
    "d = pdq[1]\n",
    "print(f\"d: {d}\")\n",
    "print(r\"thata: {}\".format(theta))\n",
    "print(r\"phi: {}\".format(phi))\n",
    "print(f\"Mu: {mu} \")\n",
    "forecast_vol_sigma = result._forecast_error(steps=1)\n",
    "print(f\"1 Step forecast has STD: {forecast_vol_sigma}\")"
   ]
  },
  {
   "cell_type": "code",
   "execution_count": 14,
   "metadata": {
    "id": "3_KznAgvMW-N"
   },
   "outputs": [],
   "source": [
    "def buildARIMAIndicator(price,  confidence_interval, is_plot=False):\n",
    "  \"\"\"\n",
    "  Trading using ARIMA Forecast:\n",
    "  Inputs: \n",
    "          price: pandas time-series of the prices. \n",
    "          confidence_interval: list of two time-series of the lower and upper confidence values of predicted price\n",
    "          is_plot: If true, this code will plot the Adj close price and show the buy and sell points.\n",
    "  output:\n",
    "          signal indicator: the series of indicators 1 to take the position, 0 for keep previous status and -1 to clear the position.\n",
    "\n",
    "  \"\"\"\n",
    "\n",
    "  conf_low = confidence_interval[0]\n",
    "  conf_high = confidence_interval[1]\n",
    "  signal = []\n",
    "  status = 0 #0==> no position, 1==>  buy all\n",
    "  buy_price = 0\n",
    "  for k in range(price.shape[0]):\n",
    "    date = price.index[k]    \n",
    "    if date in conf_low.index:      \n",
    "      # only on the dates where we have confidence interval\n",
    "      if (price[date] > conf_high[date]) and (status == 0): \n",
    "        # buy only when the close price is higher than upper part of the confidence\n",
    "        # interval \n",
    "        # Basically, we are sure that the price siginificantly up.\n",
    "        signal.append(1) # signal = 1 ==> buy\n",
    "        status = 1\n",
    "        buy_price = price[date]\n",
    "        print(f\"{date} Buy at {buy_price}.\")\n",
    "\n",
    "      elif (buy_price >  conf_low[date]) and (status == 1): \n",
    "        # sell only when the buy price is higher than higher part of the confidence\n",
    "        # Basically, we are sure that the price really going down\n",
    "        signal.append(-1) #signal = -1 ==> sell       \n",
    "        status = 0   \n",
    "        print(f\"{date} Sell at {price[date]}\")\n",
    "      else:\n",
    "        signal.append(0) # signal = 0 ==> do not thing.\n",
    "    else:\n",
    "      signal.append(0)\n",
    "\n",
    "  signal = pd.Series(data=signal, index=price.index)\n",
    "  buy_sig = price[signal == 1]\n",
    "  sell_sig = price[signal == -1]\n",
    "  if is_plot:\n",
    "    plt.figure(figsize=(15,10))\n",
    "    plt.plot(price)\n",
    "    plt.plot(conf_high)\n",
    "    plt.plot(conf_low) \n",
    "    plt.plot(buy_sig, color=\"red\", marker=\"^\",linestyle=\"\")   \n",
    "    plt.plot(sell_sig, color=\"black\", marker=\"v\",linestyle=\"\")  \n",
    "    plt.legend([\"Adj Close\",\"High\", \"Low\", \"Buy\", \"Sell\"])\n",
    "    plt.title(\"Bollinger Bands\")\n",
    "    plt.grid()\n",
    "  return signal"
   ]
  },
  {
   "cell_type": "code",
   "execution_count": 16,
   "metadata": {
    "id": "PlZe4ReTPA-6"
   },
   "outputs": [],
   "source": [
    "def techicalTrading(price, # dataframe of a stock\n",
    "                    indicator, # trade indicator\n",
    "                    initial_money=1000000 #Starting money\n",
    "                    ):\n",
    "  \"\"\"\n",
    "  Trader simulation:\n",
    "  Inputs: \n",
    "        price: time series of prices\n",
    "        indicator: time-series indicator: 1 for Buy, -1 for sell, 0 for nothing\n",
    "        initinal_money: initial money in the port. default 1M \n",
    "  output:\n",
    "        wealth: time-series money in the port\n",
    "  \"\"\"\n",
    "\n",
    "  num_dates = price.shape[0]\n",
    "  status = \"NONE\" # Start with no poistion\n",
    "  stock= 0\n",
    "  money = initial_money\n",
    "  wealth = []\n",
    "\n",
    "  for k in range(num_dates):\n",
    "    indicatork = indicator[k]\n",
    "    if not np.isnan(indicatork): # if it is not NA\n",
    "      if (indicatork > 0) and ( status == \"NONE\"):\n",
    "        stock = money/price.iloc[k]\n",
    "        #print(f\"Buy at {close.values[k]}\")\n",
    "        money = 0\n",
    "        status = \"HOLD\"\n",
    "      elif (indicatork < 0) and ( status == \"HOLD\"):\n",
    "        money = stock * price.iloc[k]\n",
    "        stock =  0\n",
    "        #print(f\"Sell at {close.values[k]}\")\n",
    "        status = \"NONE\"\n",
    "    cur_wealth = money + stock * price.iloc[k]\n",
    "    wealth.append(cur_wealth)\n",
    "  wealth = pd.Series(data=wealth, index=price.index)  \n",
    "  return wealth "
   ]
  },
  {
   "cell_type": "markdown",
   "metadata": {
    "id": "oEhyn5qDh-S_"
   },
   "source": [
    "Now, I want to you creat a new strategy where you will buy at the trough and sell at the peak. Here the trough between $t-k$ and $t$ is defined as  $T_{t-k,t} = \\min(p[t], p[t-1], ..., p[t-l])$. Similarly, we define the peak between $t-k$ and $t$ as $P_{t-k,t} = \\max(p[t], p[t-1], ..., p[t-l])$.\n",
    "\n",
    "If we are is the state = 0, or no position from $t-k$ to $t$ we will buy an assest at its trough, or when $T_{t-k,t} < c_l[t]$ where $c_l[t]$ is the lower confidence value of the forecast. Similarly, if we are in the state = 1, or hold the assest, we will sell and assest at its peak, or when $P_{t-k,t} > c_h[t]$ where $c_h[t]$ is the upper confidence value of the forecast.\n",
    "\n",
    "if $T_{t-k,t} < c_l[t]$, we have $(1-\\alpha/2)\\%$ that the trough is really the trough, and if $P_{t-k,t} > c_h[t]$, we have $(1-\\alpha/2)\\%$ that the peak is really the peak."
   ]
  },
  {
   "cell_type": "code",
   "execution_count": null,
   "metadata": {
    "id": "9tLR0QK6is34"
   },
   "outputs": [],
   "source": [
    "#create a new indictor function here.\n",
    "def buildARIMAIndicator(price, confidence_interval, is_plot=False):\n",
    "  \"\"\"\n",
    "  Trading using ARIMA Forecast:\n",
    "  Inputs: \n",
    "          price: pandas time-series of the prices. \n",
    "          confidence_interval: list of two time-series of the lower and upper confidence values of predicted price\n",
    "          is_plot: If true, this code will plot the Adj close price and show the buy and sell points.\n",
    "  output:\n",
    "          signal indicator: the series of indicators 1 to take the position, 0 for keep previous status and -1 to clear the position.\n",
    "\n",
    "  \"\"\"\n",
    "\n",
    "  conf_low = confidence_interval[0]\n",
    "  conf_high = confidence_interval[1]\n",
    "  signal = []\n",
    "  status = 0 #0==> no position, 1==>  buy all\n",
    "  buy_price = 0\n",
    "  for k in range(price.shape[0]):\n",
    "    date = price.index[k]    \n",
    "    if date in conf_low.index:      \n",
    "      # only on the dates where we have confidence interval\n",
    "      if (price[date] > conf_high[date]) and (status == 0): \n",
    "        # buy only when the close price is higher than upper part of the confidence\n",
    "        # interval \n",
    "        # Basically, we are sure that the price siginificantly up.\n",
    "        signal.append(1) # signal = 1 ==> buy\n",
    "        status = 1\n",
    "        buy_price = price[date]\n",
    "        print(f\"{date} Buy at {buy_price}.\")\n",
    "\n",
    "      elif (buy_price >  conf_low[date]) and (status == 1): \n",
    "        # sell only when the buy price is higher than higher part of the confidence\n",
    "        # Basically, we are sure that the price really going down\n",
    "        signal.append(-1) #signal = -1 ==> sell       \n",
    "        status = 0   \n",
    "        print(f\"{date} Sell at {price[date]}\")\n",
    "      else:\n",
    "        signal.append(0) # signal = 0 ==> do not thing.\n",
    "    else:\n",
    "      signal.append(0)\n",
    "\n",
    "  signal = pd.Series(data=signal, index=price.index)\n",
    "  buy_sig = price[signal == 1]\n",
    "  sell_sig = price[signal == -1]\n",
    "  if is_plot:\n",
    "    plt.figure(figsize=(15,10))\n",
    "    plt.plot(price)\n",
    "    plt.plot(conf_high)\n",
    "    plt.plot(conf_low) \n",
    "    plt.plot(buy_sig, color=\"red\", marker=\"^\",linestyle=\"\")   \n",
    "    plt.plot(sell_sig, color=\"black\", marker=\"v\",linestyle=\"\")  \n",
    "    plt.legend([\"Adj Close\",\"High\", \"Low\", \"Buy\", \"Sell\"])\n",
    "    plt.title(\"Bollinger Bands\")\n",
    "    plt.grid()\n",
    "  return signal"
   ]
  },
  {
   "cell_type": "markdown",
   "metadata": {
    "id": "a2BeTcj3kAX_"
   },
   "source": [
    "Determine the final wealth with train samples "
   ]
  },
  {
   "cell_type": "code",
   "execution_count": null,
   "metadata": {
    "id": "efvZL2q7kCMq"
   },
   "outputs": [],
   "source": [
    "# your code is here\n",
    "indicator_train = buildARIMAIndicator(train_gold, confidence_int, is_plot=True)\n",
    "\n",
    "gold_price_train = np.exp(train_gold) # convert back the acutal price\n",
    "wealth_train = techicalTrading(gold_price_train, indicator_train, initial_money=1000000)\n",
    "indicator_buy_hold = indicator_train *0 \n",
    "indicator_buy_hold[0] = 1\n",
    "wealth_buy_and_hold = techicalTrading(gold_price_train, indicator_buy_hold, initial_money=1000000)\n",
    "plt.figure(figsize=(15,10))\n",
    "plt.plot(wealth_train)\n",
    "plt.plot(wealth_buy_and_hold)\n",
    "plt.grid()\n",
    "plt.legend([\"ARIMA Model\", \"Buy and Hold\"])"
   ]
  },
  {
   "cell_type": "markdown",
   "metadata": {
    "id": "98C1LXCskD9X"
   },
   "source": [
    "Determine the final wealth with train samples "
   ]
  },
  {
   "cell_type": "code",
   "execution_count": null,
   "metadata": {
    "id": "lzZW0bHukGUZ"
   },
   "outputs": [],
   "source": [
    "# your code is here.\n",
    "print(f\"Final wealth using ARIMA: {wealth_train.iloc[-1]:,.2f}\")"
   ]
  },
  {
   "cell_type": "markdown",
   "metadata": {
    "id": "bcBilNNBkLR9"
   },
   "source": [
    "Next, we want to construct the volatility model using ARCH(1) on the residue \n",
    "Thus, we have $Y_t = \\mu_t + r_t$  where\n",
    "$\\mu_t$ is the forecast using ARIMA model that we used earlier, and\n",
    "$r_t$ is the residue. "
   ]
  },
  {
   "cell_type": "markdown",
   "metadata": {
    "id": "6ElxJvVetOpt"
   },
   "source": [
    "First we need to install arch"
   ]
  },
  {
   "cell_type": "code",
   "execution_count": 24,
   "metadata": {
    "colab": {
     "base_uri": "https://localhost:8080/"
    },
    "id": "iYYRWjJstN3L",
    "outputId": "4c058844-174a-43a6-dbc4-09dc8636d028"
   },
   "outputs": [
    {
     "name": "stdout",
     "output_type": "stream",
     "text": [
      "Collecting arch\n",
      "\u001b[?25l  Downloading https://files.pythonhosted.org/packages/7f/5c/ef80e96f2cdc6c2d293b7e4688888a4428963c966fbb0c749c9078e68bb6/arch-4.15-cp36-cp36m-manylinux1_x86_64.whl (790kB)\n",
      "\u001b[K     |████████████████████████████████| 798kB 7.4MB/s \n",
      "\u001b[?25hRequirement already satisfied: numpy>=1.14 in /usr/local/lib/python3.6/dist-packages (from arch) (1.19.5)\n",
      "Requirement already satisfied: cython>=0.29.14 in /usr/local/lib/python3.6/dist-packages (from arch) (0.29.21)\n",
      "Collecting property-cached>=1.6.3\n",
      "  Downloading https://files.pythonhosted.org/packages/5c/6c/94d8e520b20a2502e508e1c558f338061cf409cbee78fd6a3a5c6ae812bd/property_cached-1.6.4-py2.py3-none-any.whl\n",
      "Requirement already satisfied: statsmodels>=0.9 in /usr/local/lib/python3.6/dist-packages (from arch) (0.10.2)\n",
      "Requirement already satisfied: pandas>=0.23 in /usr/local/lib/python3.6/dist-packages (from arch) (1.1.5)\n",
      "Requirement already satisfied: scipy>=1.0.1 in /usr/local/lib/python3.6/dist-packages (from arch) (1.4.1)\n",
      "Requirement already satisfied: patsy>=0.4.0 in /usr/local/lib/python3.6/dist-packages (from statsmodels>=0.9->arch) (0.5.1)\n",
      "Requirement already satisfied: python-dateutil>=2.7.3 in /usr/local/lib/python3.6/dist-packages (from pandas>=0.23->arch) (2.8.1)\n",
      "Requirement already satisfied: pytz>=2017.2 in /usr/local/lib/python3.6/dist-packages (from pandas>=0.23->arch) (2018.9)\n",
      "Requirement already satisfied: six in /usr/local/lib/python3.6/dist-packages (from patsy>=0.4.0->statsmodels>=0.9->arch) (1.15.0)\n",
      "Installing collected packages: property-cached, arch\n",
      "Successfully installed arch-4.15 property-cached-1.6.4\n"
     ]
    }
   ],
   "source": [
    "!pip install arch "
   ]
  },
  {
   "cell_type": "code",
   "execution_count": 29,
   "metadata": {
    "colab": {
     "base_uri": "https://localhost:8080/"
    },
    "id": "DXqmVlpZkrO2",
    "outputId": "20097c1a-85c8-4cdf-f1cf-46061e7e7f0b"
   },
   "outputs": [
    {
     "name": "stdout",
     "output_type": "stream",
     "text": [
      "Iteration:      1,   Func. Count:      5,   Neg. LLF: -6482.685693543018\n",
      "Iteration:      2,   Func. Count:     18,   Neg. LLF: -6482.689211329767\n",
      "Optimization terminated successfully.    (Exit mode 0)\n",
      "            Current function value: -6482.689228486683\n",
      "            Iterations: 2\n",
      "            Function evaluations: 26\n",
      "            Gradient evaluations: 2\n",
      "                      Constant Mean - ARCH Model Results                      \n",
      "==============================================================================\n",
      "Dep. Variable:                   None   R-squared:                      -0.000\n",
      "Mean Model:             Constant Mean   Adj. R-squared:                 -0.000\n",
      "Vol Model:                       ARCH   Log-Likelihood:                6482.69\n",
      "Distribution:                  Normal   AIC:                          -12959.4\n",
      "Method:            Maximum Likelihood   BIC:                          -12942.9\n",
      "                                        No. Observations:                 1825\n",
      "Date:                Thu, Feb 04 2021   Df Residuals:                     1822\n",
      "Time:                        16:18:23   Df Model:                            3\n",
      "                                  Mean Model                                 \n",
      "=============================================================================\n",
      "                 coef    std err          t      P>|t|       95.0% Conf. Int.\n",
      "-----------------------------------------------------------------------------\n",
      "mu         5.5640e-05  1.634e-04      0.341      0.733 [-2.646e-04,3.759e-04]\n",
      "                              Volatility Model                              \n",
      "============================================================================\n",
      "                 coef    std err          t      P>|t|      95.0% Conf. Int.\n",
      "----------------------------------------------------------------------------\n",
      "omega      4.3794e-05  2.122e-06     20.637  1.266e-94 [3.963e-05,4.795e-05]\n",
      "alpha[1]       0.1000      0.113      0.885      0.376     [ -0.121,  0.321]\n",
      "============================================================================\n",
      "\n",
      "Covariance estimator: robust\n"
     ]
    }
   ],
   "source": [
    "from arch import arch_model\n",
    "resid = result.resid\n",
    "vol_model = arch_model(resid, mean=\"Constant\", p=1, q=0, vol=\"arch\")\n",
    "result_vol = vol_model.fit()\n",
    "print(result_vol.summary())\n",
    "\n"
   ]
  },
  {
   "cell_type": "markdown",
   "metadata": {
    "id": "wPQQuqI2t2sS"
   },
   "source": [
    "Now, please write the garch volatility forecast\n",
    "\n",
    "$r_t = a_t$ \\\\\n",
    "$\\sigma_t^2 = \\omega + \\alpha\\times\\sigma_{t-1}^2 \n",
    "\n"
   ]
  },
  {
   "cell_type": "code",
   "execution_count": null,
   "metadata": {
    "id": "I7q0hR9ctyDZ"
   },
   "outputs": [],
   "source": [
    "# your conde is here \n",
    "# look at the example in buildARIMAForecast \n",
    "\n",
    "def buildARCHVolForecast(omega, alpha):\n",
    "   \"\"\"\n",
    "  Create the GARCH forecast function\n",
    "  r[t] = a[t]\n",
    "  sigma[t]^2 = omega + alpha * sigma[t-1]^2 \n",
    "  omega and alpha are parameters for GARCH(1,1)\n",
    "  Return:\n",
    "    GARCH forecast function\n",
    "  \"\"\"\n",
    "  def archForecast(y_arima, residue, confidence):\n",
    "    \"\"\"\n",
    "      ARCH(1) forecasts\n",
    "      Input:\n",
    "      y_arima: time-series forecast from ARIMA\n",
    "      residue: time-series forecast residue error \n",
    "      confidence: confidence level\n",
    "    Return:\n",
    "      x_pred: 1-step predicted prices\n",
    "      sigma2: variance of forecast\n",
    "      [conf_int_low, conf_int_high]: list containting lower and upper confidence intervals\n",
    "    \"\"\"\n",
    "    x_pred = y_arima \n",
    "    # add your code here. Please note that x_pred = y_arima. \n",
    "    \n",
    "    x = data.copy()\n",
    "    if d > 0: # d > 0, we work with differences\n",
    "      for k in range(d): # difference orders\n",
    "        x = difference(x, interval=1)\n",
    "    x = x.dropna() # drop unusable data. \n",
    "    num_x = x.shape[0]\n",
    "    pq_max = max(p,q) # maximum between autoregressive and moving average\n",
    "    residue = np.zeros((num_x,))\n",
    "    residue[:pq_max] = res0 # initialized residues\n",
    "    x_out = [] # for storing forecast values\n",
    "    dates = [] # for storing dates where we have forecast values \n",
    "    for k in range(pq_max, num_x): # for each day\n",
    "      x_pred = mu # y_hat[t] = mu\n",
    "      if p > 0:\n",
    "        x_hist = (x.iloc[k-p:k] - mu) #y[t-1],.., y[t-p]\n",
    "        x_pred += (phis * x_hist).sum()        \n",
    "        # y_hat[t] = y_hat[t] + phi_1*y[t-1]+...+phi_p*y[t-p] + w[t] \n",
    "      if q > 0:\n",
    "        w_hist = residue[k-q:k] #w[t], ..., w[t-q]\n",
    "        x_pred += (theta * w_hist).sum()\n",
    "        #y_hat[t] += y_hat[t] + theta_1*w[t-1] + ...+theta_q * w[t-q]     \n",
    "      x_out.append(x_pred)\n",
    "      dates.append(x.index[k])\n",
    "\n",
    "      ## update residue \n",
    "      residue[k] = x.iloc[k] - x_pred #w[t] = y[t] -  y_hat[t]\n",
    "    x_pred = pd.Series(x_out, index=dates) # Covert to time series\n",
    "    residue = pd.Series(residue[pq_max:], index=dates) # Covert to time series\n",
    "    if d > 0:\n",
    "      for k in range(d):\n",
    "        x_pred = integrate(x_pred, data).dropna()\n",
    "    # make confidence intervale\n",
    "    zalpha2 = norm.ppf(1 - alpha/2) # compute z_{alpha/2}\n",
    "    conf_int_high = x_pred + zalpha2 * sigma # upper 95% confidence\n",
    "    conf_int_low = x_pred - zalpha2 * sigma # lower 95% confidence \n",
    "    return x_pred, residue , [conf_int_low, conf_int_high]\n",
    "  return arimaForecast \n",
    "  \n",
    "\n",
    "\n"
   ]
  },
  {
   "cell_type": "markdown",
   "metadata": {
    "id": "MaRNqWr0wVIC"
   },
   "source": [
    "Use this new confidence interval to trade using the peak, and trough strategy. \n",
    "Is there any differences in profit for confidence=0.99? zalpha2 = norm.ppf(confidence)"
   ]
  },
  {
   "cell_type": "code",
   "execution_count": null,
   "metadata": {
    "id": "h-JQTASJweRc"
   },
   "outputs": [],
   "source": [
    "# your code is here.\n",
    "pred_gold_test, resid_test, confidence_int_test = arima_gold(test_gold, alpha=0.01) # 99% Confidence\n",
    "plt.figure(figsize=(15,10))\n",
    "plt.plot(pred_gold_test)\n",
    "plt.plot(test_gold)\n",
    "plt.grid()\n",
    "plt.legend([\"Predicted value\", \"actual value\"])"
   ]
  },
  {
   "cell_type": "markdown",
   "metadata": {
    "id": "2tJvc2s22BxT"
   },
   "source": [
    "Lastly, let us try with difference confidence levels\n",
    "Find wealths for confidence levels equal to 0.8 and 0.9999"
   ]
  },
  {
   "cell_type": "code",
   "execution_count": null,
   "metadata": {
    "id": "i6DLCz1E27P6"
   },
   "outputs": [],
   "source": [
    "# your code is here. \n",
    "pred_gold_test, resid_test, confidence_int_test = arima_gold(test_gold, alpha=0.01) # 99% Confidence\n",
    "plt.figure(figsize=(15,10))\n",
    "plt.plot(pred_gold_test)\n",
    "plt.plot(test_gold)\n",
    "plt.grid()\n",
    "plt.legend([\"Predicted value\", \"actual value\"])"
   ]
  },
  {
   "cell_type": "markdown",
   "metadata": {
    "id": "c-fd1-W02z7k"
   },
   "source": [
    "Which confidence level give you the maximum wealth for\n",
    "1. trains samples\n",
    "2. test samples "
   ]
  },
  {
   "cell_type": "code",
   "execution_count": null,
   "metadata": {
    "id": "ys3e0LRS2yPX"
   },
   "outputs": [],
   "source": [
    "# you code is here\n",
    "gold_price_test = np.exp(test_gold) # convert back the acutal price\n",
    "wealth_test = techicalTrading(gold_price_test, indicator_test, initial_money=1000000)\n",
    "indicator_buy_hold_test = indicator_test *0 \n",
    "indicator_buy_hold[0] = 1\n",
    "wealth_buy_and_hold_test = techicalTrading(gold_price_test, indicator_buy_hold, initial_money=1000000)\n",
    "plt.figure(figsize=(15,10))\n",
    "plt.plot(wealth_test)\n",
    "plt.plot(wealth_buy_and_hold_test)\n",
    "plt.grid()\n",
    "plt.legend([\"ARIMA Model\", \"Buy and Hold\"])\n",
    "plt.title(\"Wealth of Test set\")"
   ]
  },
  {
   "cell_type": "code",
   "execution_count": null,
   "metadata": {},
   "outputs": [],
   "source": [
    "print(f\"Final wealth using Buy and Hold: {wealth_buy_and_hold_test.iloc[-1]:,.2f}\")\n",
    "print(f\"Final wealth using ARIMA: {wealth_test.iloc[-1]:,.2f}\")"
   ]
  }
 ],
 "metadata": {
  "colab": {
   "collapsed_sections": [],
   "name": "Assignment5TradingStrategyUsingTimeSeriesForecast.ipynb",
   "provenance": []
  },
  "kernelspec": {
   "display_name": "Python 3",
   "language": "python",
   "name": "python3"
  },
  "language_info": {
   "codemirror_mode": {
    "name": "ipython",
    "version": 3
   },
   "file_extension": ".py",
   "mimetype": "text/x-python",
   "name": "python",
   "nbconvert_exporter": "python",
   "pygments_lexer": "ipython3",
   "version": "3.7.6"
  }
 },
 "nbformat": 4,
 "nbformat_minor": 1
}